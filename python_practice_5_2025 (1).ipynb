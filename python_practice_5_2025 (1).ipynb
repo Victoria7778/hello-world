{
  "nbformat": 4,
  "nbformat_minor": 0,
  "metadata": {
    "colab": {
      "provenance": []
    },
    "kernelspec": {
      "name": "python3",
      "display_name": "Python 3"
    },
    "language_info": {
      "name": "python"
    }
  },
  "cells": [
    {
      "cell_type": "markdown",
      "source": [
        "# I. OOP"
      ],
      "metadata": {
        "id": "5qV_sehzFCTp"
      }
    },
    {
      "cell_type": "markdown",
      "source": [
        "1. (6б). Створіть клас Building, додайте три атрибути, один з яких має значення за замовчуванням та два методи на свій розсуд."
      ],
      "metadata": {
        "id": "tx_U_hOALyfg"
      }
    },
    {
      "cell_type": "code",
      "source": [
        "class Building:\n",
        "  def __init__(self, name, floors, material=\"stone\"):\n",
        "    self.name = name\n",
        "    self.floors = floors\n",
        "    self.material = material\n",
        "  def get_name(self):\n",
        "    return f\"Building Name: {self.name}\"\n",
        "  def get_info(self):\n",
        "    return f\"Building Name: {self.name}, Floors: {self.floors}, Material: {self.material}\"\n",
        "\n",
        "\n"
      ],
      "metadata": {
        "id": "-Vf895KaL88N",
        "colab": {
          "base_uri": "https://localhost:8080/"
        },
        "outputId": "052ec7f5-7e42-4f31-c029-09a3ccde8f10"
      },
      "execution_count": 3,
      "outputs": [
        {
          "output_type": "stream",
          "name": "stdout",
          "text": [
            "Building Name: house 1\n",
            "Building Name: house 1, Floors: 45, Material: stone\n"
          ]
        }
      ]
    },
    {
      "cell_type": "markdown",
      "source": [
        "2. (2б). Створіть два обʼєкти цього класу, де один з обʼєктів створюється із дефолтним значенням атрибуту. На одному обʼєкті отримайте значення його атрибуту, а на іншому викличте один з його методів."
      ],
      "metadata": {
        "id": "X_UlOMB0L93w"
      }
    },
    {
      "cell_type": "code",
      "source": [
        "class Building:\n",
        "  def __init__(self, name, floors, material=\"stone\"):\n",
        "    self.name = name\n",
        "    self.floors = floors\n",
        "    self.material = material\n",
        "  def get_name(self):\n",
        "    return f\"Building Name: {self.name}\"\n",
        "  def get_info(self):\n",
        "    return f\"Building Name: {self.name}, Floors: {self.floors}, Material: {self.material}\"\n",
        "b1 = Building(\"house 1\", 45)\n",
        "b2 = Building(\"house 2\", 17, \"Glass\")\n",
        "print(b1.get_info())\n",
        "print(b2.material)"
      ],
      "metadata": {
        "id": "7gBu0ESOMCpG",
        "colab": {
          "base_uri": "https://localhost:8080/"
        },
        "outputId": "dec4f138-bd1f-4556-dee2-95877abec9d3"
      },
      "execution_count": 5,
      "outputs": [
        {
          "output_type": "stream",
          "name": "stdout",
          "text": [
            "Building Name: house 1, Floors: 45, Material: stone\n",
            "Glass\n"
          ]
        }
      ]
    },
    {
      "cell_type": "markdown",
      "source": [
        "3. (5б). Створіть клас, де атрибути мають різні рівні доступу. Спробуйте отримати їхні значення та опишіть результати."
      ],
      "metadata": {
        "id": "HoqSCZt1MHn5"
      }
    },
    {
      "cell_type": "code",
      "source": [
        "class Car:\n",
        "    def __init__(self, brand, model, year):\n",
        "        self.brand = brand\n",
        "        self._model = model\n",
        "        self.__year = year\n",
        "\n",
        "    def get_year(self):\n",
        "        return self.__year\n",
        "\n",
        "car = Car(\"Toyota\", \"Camry\", 2020)\n",
        "\n",
        "print(car.brand)  #виводить результат Toyota\n",
        "print(car._model) #виводить результат Camry, але вважається внутрішнім атрибутом\n",
        "#print(car.__year) виводить помилку, оскільки цей атрибут приватний\n",
        "print(car.get_year())  #але можна отримати доступ через метод\n",
        "\n"
      ],
      "metadata": {
        "id": "r9b3vJxBMSPV",
        "colab": {
          "base_uri": "https://localhost:8080/"
        },
        "outputId": "508527f8-c139-4f57-f116-c9bd1cd7f3b5"
      },
      "execution_count": 9,
      "outputs": [
        {
          "output_type": "stream",
          "name": "stdout",
          "text": [
            "Toyota\n",
            "Camry\n",
            "2020\n"
          ]
        }
      ]
    },
    {
      "cell_type": "markdown",
      "source": [
        "4. (7б). Як ви розумієте термін self? Для чого використовується метод __init __?"
      ],
      "metadata": {
        "id": "5op2m2vgMSkZ"
      }
    },
    {
      "cell_type": "markdown",
      "source": [
        "self вказує на поточний екземпляр класу і використовується для доступу до його атрибутів або методів.\n",
        "init використовується для того, щоб задавати початкові значення для об'єкта, а також для передачі параметрів при створенні об'єкта."
      ],
      "metadata": {
        "id": "DyiPqNRvMasx"
      }
    },
    {
      "cell_type": "markdown",
      "source": [
        "5. (9б). Створіть клас 3D-фігура без атрибутів, з методом get_volume для отримання об'єму фігури, що повертає 0 та __add __, який приймає self та other в якості аргументів, а повертає суму об'ємів 3d-фігур self та other."
      ],
      "metadata": {
        "id": "-6X8EGfjMd2y"
      }
    },
    {
      "cell_type": "code",
      "source": [
        "class ThreeD:\n",
        "    def get_volume(self):\n",
        "        return 0\n",
        "    def __add__(self, other):\n",
        "        if isinstance(other, ThreeD):\n",
        "            return self.get_volume() + other.get_volume()\n",
        "        raise TypeError(\"Erorr\")\n",
        "\n",
        "\n",
        "fig1 = ThreeD()\n",
        "fig2 = ThreeD()\n",
        "\n",
        "print(fig1.get_volume())\n",
        "print(fig1 + fig2)\n"
      ],
      "metadata": {
        "id": "4rvO_wYUMaEr",
        "colab": {
          "base_uri": "https://localhost:8080/"
        },
        "outputId": "3d3da9e2-ec1e-4756-89f8-53021e176487"
      },
      "execution_count": 11,
      "outputs": [
        {
          "output_type": "stream",
          "name": "stdout",
          "text": [
            "0\n",
            "0\n"
          ]
        }
      ]
    },
    {
      "cell_type": "markdown",
      "source": [
        "6. (11б). Створіть 2 дочірніх класи від 3d-фігура: Циліндр та Куб, які мають атрибути, необхідні для розрахунку об'єму. Визначте метод get_volume в кожному з них так, щоби вони розраховували об'єм у залежності від формули для кожного типу фігури. Створіть обʼєкт класу Циліндр та обʼєкт класу Куб. Виконайте операцію суми за допомогою оператора + між ними, аби знайти сумарний об'єм."
      ],
      "metadata": {
        "id": "SFcKnnv5Mo_z"
      }
    },
    {
      "cell_type": "code",
      "source": [
        "import math\n",
        "class ThreeD:\n",
        "    def get_volume(self):\n",
        "        pass\n",
        "\n",
        "class Cylinder(ThreeD):\n",
        "    def __init__(self, radius, height):\n",
        "        self.radius = radius\n",
        "        self.height = height\n",
        "\n",
        "    def get_volume(self):\n",
        "        return math.pi * (self.radius ** 2) * self.height\n",
        "\n",
        "class Cube(ThreeD):\n",
        "    def __init__(self, side_length):\n",
        "        self.side_length = side_length\n",
        "\n",
        "    def get_volume(self):\n",
        "        return self.side_length ** 3\n",
        "\n",
        "cylinder1 = Cylinder(3, 5)\n",
        "cube1 = Cube(4)\n",
        "cylinder_volume = cylinder1.get_volume()\n",
        "cube_volume = cube1.get_volume()\n",
        "total_volume = cylinder_volume + cube_volume\n",
        "\n",
        "print(f\"Volume Cylinder: {cylinder_volume:.2f}\")\n",
        "print(f\"Volume CYbe: {cube_volume:.2f}\")\n",
        "print(f\"Total Volume: {total_volume:.2f}\")"
      ],
      "metadata": {
        "id": "H3GVNr69Muf3",
        "colab": {
          "base_uri": "https://localhost:8080/"
        },
        "outputId": "c3659417-6a80-4fb2-e295-c692b03085e3"
      },
      "execution_count": 14,
      "outputs": [
        {
          "output_type": "stream",
          "name": "stdout",
          "text": [
            "Volume Cylinder: 141.37\n",
            "Volume CYbe: 64.00\n",
            "Total Volume: 205.37\n"
          ]
        }
      ]
    },
    {
      "cell_type": "markdown",
      "source": [
        "7. (3б). Продемонструйте різницю між isinstance та issubclass."
      ],
      "metadata": {
        "id": "HCvR206YMvLK"
      }
    },
    {
      "cell_type": "code",
      "source": [
        "class Animal:\n",
        "    pass\n",
        "\n",
        "class Dog(Animal):\n",
        "    pass\n",
        "\n",
        "dog = Dog()\n",
        "\n",
        "print(isinstance(dog, Dog))\n",
        "print(isinstance(dog, Animal))\n",
        "print(issubclass(Dog, Animal))\n",
        "print(issubclass(Animal, Dog))  # False бо Animal не є підкласом Dog\n",
        "print(issubclass(Dog, object))"
      ],
      "metadata": {
        "id": "L_V1bBvDM0GN",
        "colab": {
          "base_uri": "https://localhost:8080/"
        },
        "outputId": "ab1c1dfc-aaad-4ff4-cdac-e13b8bdc1df5"
      },
      "execution_count": 2,
      "outputs": [
        {
          "output_type": "stream",
          "name": "stdout",
          "text": [
            "True\n",
            "True\n",
            "True\n",
            "False\n",
            "True\n"
          ]
        }
      ]
    },
    {
      "cell_type": "markdown",
      "source": [
        "8. (13б). Створіть клас EWallet з приватними атрибутами balance та id. Реалізуйте методи поповнення та зняття коштів, забезпечивши належну інкапсуляцію. Підказка: використовуйте декоратори property та setter."
      ],
      "metadata": {
        "id": "jjsaBZ-iM0Qq"
      }
    },
    {
      "cell_type": "code",
      "source": [
        "class EWallet:\n",
        "    def __init__(self, wallet_id: str, initial_balance: float = 0.0):\n",
        "        self.__id = wallet_id\n",
        "        self.__balance = initial_balance\n",
        "\n",
        "    @property\n",
        "    def balance(self) -> float:\n",
        "        return self.__balance\n",
        "\n",
        "    @balance.setter\n",
        "    def balance(self, amount: float):\n",
        "        if amount >= 0:\n",
        "            self.__balance = amount\n",
        "        else:\n",
        "            print(\"Balance cannot be negative.\")\n",
        "\n",
        "    @property\n",
        "    def wallet_id(self) -> str:\n",
        "        return self.__id\n",
        "\n",
        "    def deposit(self, amount: float):\n",
        "        if amount > 0:\n",
        "            self.__balance += amount\n",
        "            print(f\"Deposited: {amount}. New balance: {self.__balance}\")\n",
        "        else:\n",
        "            print(\"Amount must be greater than 0.\")\n",
        "\n",
        "    def withdraw(self, amount: float):\n",
        "        if 0 < amount <= self.__balance:\n",
        "            self.__balance -= amount\n",
        "            print(f\"Withdrawn: {amount}. New balance: {self.__balance}\")\n",
        "        else:\n",
        "            print(\"Not enough money.\")\n",
        "\n",
        "wallet = EWallet(\"W12345\", 100.0)\n",
        "print(\"Wallet ID:\", wallet.wallet_id)\n",
        "print(\"Current balance:\", wallet.balance)\n",
        "\n",
        "wallet.deposit(50)\n",
        "wallet.withdraw(30)\n",
        "wallet.balance = 200\n",
        "print(\"New balance:\", wallet.balance)\n",
        "wallet.balance = -50"
      ],
      "metadata": {
        "id": "xCvZ7lh8M7YA",
        "colab": {
          "base_uri": "https://localhost:8080/"
        },
        "outputId": "faa8fa5c-9655-45bb-ba5b-1ba1c069b273"
      },
      "execution_count": 4,
      "outputs": [
        {
          "output_type": "stream",
          "name": "stdout",
          "text": [
            "Wallet ID: W12345\n",
            "Current balance: 100.0\n",
            "Deposited: 50. New balance: 150.0\n",
            "Withdrawn: 30. New balance: 120.0\n",
            "New balance: 200\n",
            "Balance cannot be negative.\n"
          ]
        }
      ]
    },
    {
      "cell_type": "markdown",
      "source": [
        "9. (11б). Створіть клас ShoppingCart, який містить список об'єктів типу Item. Реалізуйте методи для додавання айтемів, їх видалення та відображення списку айтемів."
      ],
      "metadata": {
        "id": "tIzL2SJTM8ft"
      }
    },
    {
      "cell_type": "code",
      "source": [
        "class Item:\n",
        "    def __init__(self, name: str, price: float):\n",
        "        self.name = name\n",
        "        self.price = price\n",
        "\n",
        "    def __str__(self):\n",
        "        return f\"{self.name}: ${self.price:.2f}\"\n",
        "\n",
        "\n",
        "class ShoppingCart:\n",
        "    def __init__(self):\n",
        "        self.items = []\n",
        "\n",
        "    def add_item(self, item: Item):\n",
        "        self.items.append(item)\n",
        "        print(f\"Added {item.name} to the cart.\")\n",
        "\n",
        "    def remove_item(self, item_name: str):\n",
        "        for item in self.items:\n",
        "            if item.name == item_name:\n",
        "                self.items.remove(item)\n",
        "                print(f\"Removed {item_name} from the cart.\")\n",
        "                return\n",
        "        print(f\"Item {item_name} not found in the cart.\")\n",
        "\n",
        "    def display_items(self):\n",
        "        if not self.items:\n",
        "            print(\"The cart is empty.\")\n",
        "        else:\n",
        "            print(\"Shopping Cart:\")\n",
        "            for item in self.items:\n",
        "                print(f\"- {item}\")\n",
        "\n",
        "\n",
        "cart = ShoppingCart()\n",
        "item1 = Item(\"Laptop\", 999.99)\n",
        "item2 = Item(\"Phone\", 499.99)\n",
        "\n",
        "cart.add_item(item1)\n",
        "cart.add_item(item2)\n",
        "cart.display_items()\n",
        "\n",
        "cart.remove_item(\"Laptop\")\n",
        "cart.display_items()\n"
      ],
      "metadata": {
        "id": "HWxfJKLtNAUZ",
        "colab": {
          "base_uri": "https://localhost:8080/"
        },
        "outputId": "0e4932eb-d151-4ac6-d135-ae475c0eb071"
      },
      "execution_count": 8,
      "outputs": [
        {
          "output_type": "stream",
          "name": "stdout",
          "text": [
            "Added Laptop to the cart.\n",
            "Added Phone to the cart.\n",
            "Shopping Cart:\n",
            "- Laptop: $999.99\n",
            "- Phone: $499.99\n",
            "Removed Laptop from the cart.\n",
            "Shopping Cart:\n",
            "- Phone: $499.99\n"
          ]
        }
      ]
    },
    {
      "cell_type": "markdown",
      "source": [
        "10. (13б). Створіть клас Vehicle з атрибутами brand (manufacturer) та production_age. Створіть ще один клас Engine з такими атрибутами, як type (ex. petrol) та size (volume, litres). Створіть клас Car, який успадковує обидва класи Vehicle та Engine. Продемонструйте використання множинної спадковості, створивши обʼєкт класу Car та отримавши mro для цього класу."
      ],
      "metadata": {
        "id": "lmV8pAwwNIqu"
      }
    },
    {
      "cell_type": "code",
      "source": [
        "class Vehicle:\n",
        "    def __init__(self, brand: str, production_age: int):\n",
        "        self.brand = brand\n",
        "        self.production_age = production_age\n",
        "\n",
        "class Engine:\n",
        "    def __init__(self, engine_type: str, size: float):\n",
        "        self.engine_type = engine_type\n",
        "        self.size = size\n",
        "\n",
        "class Car(Vehicle, Engine):\n",
        "    def __init__(self, brand: str, production_age: int, engine_type: str, size: float):\n",
        "        super().__init__(brand, production_age)\n",
        "        Engine.__init__(self, engine_type, size)\n",
        "\n",
        "    def display_info(self):\n",
        "        print(f\"Car Brand: {self.brand}, Age: {self.production_age} years\")\n",
        "        print(f\"Engine Type: {self.engine_type}, Size: {self.size}L\")\n",
        "\n",
        "\n",
        "car = Car(\"Toyota\", 5, \"Petrol\", 2.0)\n",
        "car.display_info()\n",
        "\n",
        "\n",
        "print(\"MRO:\", Car.mro())\n"
      ],
      "metadata": {
        "id": "R49grKlWNPeN",
        "colab": {
          "base_uri": "https://localhost:8080/"
        },
        "outputId": "9b95acfc-8412-43ee-f443-3f672477882f"
      },
      "execution_count": 9,
      "outputs": [
        {
          "output_type": "stream",
          "name": "stdout",
          "text": [
            "Car Brand: Toyota, Age: 5 years\n",
            "Engine Type: Petrol, Size: 2.0L\n",
            "MRO: [<class '__main__.Car'>, <class '__main__.Vehicle'>, <class '__main__.Engine'>, <class 'object'>]\n"
          ]
        }
      ]
    },
    {
      "cell_type": "markdown",
      "source": [
        "# II. Iterator"
      ],
      "metadata": {
        "id": "dIJyUiNBFG8G"
      }
    },
    {
      "cell_type": "markdown",
      "source": [
        "11. (4б). Визначте рядок(str) з 4ма різними за значенням символами. Створіть ітератор на основі цього рядка. Викличте 5 разів функцію next на ітераторі, 4ри перших з них огорніть у ф-цію print()."
      ],
      "metadata": {
        "id": "13vsm0NyKIzL"
      }
    },
    {
      "cell_type": "code",
      "source": [
        "\n",
        "my_string = \"a1$#\"\n",
        "iterator = iter(my_string)\n",
        "\n",
        "print(next(iterator))\n",
        "print(next(iterator))\n",
        "print(next(iterator))\n",
        "print(next(iterator))\n",
        "#next(iterator) виникає помилка\n"
      ],
      "metadata": {
        "id": "81ntabAkKuz-",
        "colab": {
          "base_uri": "https://localhost:8080/"
        },
        "outputId": "36f862bc-a4fa-489a-d496-b9ac7f6ce7b2"
      },
      "execution_count": 16,
      "outputs": [
        {
          "output_type": "stream",
          "name": "stdout",
          "text": [
            "a\n",
            "1\n",
            "$\n",
            "#\n"
          ]
        }
      ]
    },
    {
      "cell_type": "markdown",
      "source": [
        "А що якщо викликати цю ж функцію на рядку?"
      ],
      "metadata": {
        "id": "aekWHGXOLRsO"
      }
    },
    {
      "cell_type": "code",
      "source": [
        "\n",
        "my_string = \"a1$#\"\n",
        "iterator = iter(my_string)\n",
        "\n",
        "#print(next(my_string))  виникне помилка TypeError: 'str' object is not an iterator\n",
        "\n"
      ],
      "metadata": {
        "id": "mxATGsErLV1i"
      },
      "execution_count": 20,
      "outputs": []
    },
    {
      "cell_type": "markdown",
      "source": [
        " 12. (5б). Опишіть своїми словами в одному реченні, як ви розумієте різницю між ітерабельними обʼєктами та ітераторами (можна на прикладі)."
      ],
      "metadata": {
        "id": "XwtMEopwJ4pH"
      }
    },
    {
      "cell_type": "markdown",
      "source": [
        "Ітерабельний обʼєкт — це обʼєкт, з якого можна створити ітератор (наприклад, наш рядок my_string), тоді як ітератор — це обʼєкт, який зберігає стан перебору і дозволяє отримувати елементи по черзі, за допомогю функції next()"
      ],
      "metadata": {
        "id": "-sHrODc3KFn8"
      }
    },
    {
      "cell_type": "markdown",
      "source": [
        "13. (11б). Створіть клас, що має визначений Iterator Protocol та при кожному виклику next повертає назву дня тижня, поки вони не вичерпаються. Зверніть увагу, що порядок має значення."
      ],
      "metadata": {
        "id": "E9qJWmNbK8Gl"
      }
    },
    {
      "cell_type": "code",
      "source": [
        "class WeekIterator:\n",
        "    days_week = [\"Monday\", \"Tuesday\", \"Wednesday\", \"Thursday\", \"Friday\", \"Saturday\", \"Sunday\"]\n",
        "\n",
        "    def __init__(self):\n",
        "        self.index = 0\n",
        "    def __iter__(self):\n",
        "        return self\n",
        "\n",
        "    def __next__(self):\n",
        "        if self.index < len(self.days_week):\n",
        "            day = self.days_week[self.index]\n",
        "            self.index += 1\n",
        "            return day\n",
        "        else:\n",
        "            raise StopIteration\n",
        "\n",
        "iterator = WeekIterator()\n",
        "\n",
        "for day in iterator:\n",
        "    print(day)\n"
      ],
      "metadata": {
        "id": "cqx-g_RsLo6I",
        "colab": {
          "base_uri": "https://localhost:8080/"
        },
        "outputId": "b729bb7a-d7e8-453d-9255-cc38980a1531"
      },
      "execution_count": 24,
      "outputs": [
        {
          "output_type": "stream",
          "name": "stdout",
          "text": [
            "Monday\n",
            "Tuesday\n",
            "Wednesday\n",
            "Thursday\n",
            "Friday\n",
            "Saturday\n",
            "Sunday\n"
          ]
        }
      ]
    },
    {
      "cell_type": "markdown",
      "source": [
        "# Вітаю! Ви велика(ий) молодець, що впоралась(вся). Похваліть себе та побалуйте чимось приємним. Я Вами пишаюся."
      ],
      "metadata": {
        "id": "Z3E3S_s1Fv7-"
      }
    }
  ]
}